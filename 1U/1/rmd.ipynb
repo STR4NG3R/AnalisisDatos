{
  "nbformat": 4,
  "nbformat_minor": 0,
  "metadata": {
    "colab": {
      "provenance": [],
      "authorship_tag": "ABX9TyMpgR/EFNkfFLQlRswpKgDL",
      "include_colab_link": true
    },
    "kernelspec": {
      "name": "python3",
      "display_name": "Python 3"
    },
    "language_info": {
      "name": "python"
    }
  },
  "cells": [
    {
      "cell_type": "markdown",
      "metadata": {
        "id": "view-in-github",
        "colab_type": "text"
      },
      "source": [
        "<a href=\"https://colab.research.google.com/github/STR4NG3R/AnalisisDatos/blob/main/1U/1/rmd.ipynb\" target=\"_parent\"><img src=\"https://colab.research.google.com/assets/colab-badge.svg\" alt=\"Open In Colab\"/></a>"
      ]
    },
    {
      "cell_type": "code",
      "source": [
        "%load_ext rpy2.ipython"
      ],
      "metadata": {
        "id": "17T6-ET8ImAB"
      },
      "execution_count": 2,
      "outputs": []
    },
    {
      "cell_type": "markdown",
      "source": [
        "Packages"
      ],
      "metadata": {
        "id": "-QFBxZfTFkZj"
      }
    },
    {
      "cell_type": "code",
      "source": [
        "%%R\n",
        "library(dplyr)\n",
        "library(readr)\n",
        "library(ggplot2)"
      ],
      "metadata": {
        "id": "3hN8FFYsFyp0"
      },
      "execution_count": 8,
      "outputs": []
    },
    {
      "cell_type": "markdown",
      "source": [
        "Load data"
      ],
      "metadata": {
        "id": "EFV5-HeXGiWD"
      }
    },
    {
      "cell_type": "code",
      "source": [
        "%%R\n",
        "data <- read.csv(\"https://raw.githubusercontent.com/rpizarrog/Analisis-Inteligente-de-datos/main/datos/movies-db.csv\", stringsAsFactors = TRUE )"
      ],
      "metadata": {
        "id": "-uA0k8hqF3sX"
      },
      "execution_count": 3,
      "outputs": []
    },
    {
      "cell_type": "markdown",
      "source": [
        "Show first elements"
      ],
      "metadata": {
        "id": "gEwHimUJGoND"
      }
    },
    {
      "cell_type": "code",
      "source": [
        "%%R\n",
        "head(data, 10)"
      ],
      "metadata": {
        "colab": {
          "base_uri": "https://localhost:8080/"
        },
        "id": "PR6BDetQGsOd",
        "outputId": "58980cc2-1254-4787-c569-201193afea4c"
      },
      "execution_count": null,
      "outputs": [
        {
          "output_type": "stream",
          "name": "stdout",
          "text": [
            "                   name year length_min     genre average_rating cost_millions\n",
            "1             Toy Story 1995         81 Animation            8.3          30.0\n",
            "2                 Akira 1998        125 Animation            8.1          10.4\n",
            "3    The Breakfast Club 1985         97     Drama            7.9           1.0\n",
            "4            The Artist 2011        100   Romance            8.0          15.0\n",
            "5          Modern Times 1936         87    Comedy            8.6           1.5\n",
            "6            Fight Club 1999        139     Drama            8.9          63.0\n",
            "7           City of God 2002        130     Crime            8.7           3.3\n",
            "8      The Untouchables 1987        119     Drama            7.9          25.0\n",
            "9  Star Wars Episode IV 1977        121    Action            8.7          11.0\n",
            "10      American Beauty 1999        122     Drama            8.4          15.0\n",
            "   foreign age_restriction\n",
            "1        0               0\n",
            "2        1              14\n",
            "3        0              14\n",
            "4        1              12\n",
            "5        0              10\n",
            "6        0              18\n",
            "7        1              18\n",
            "8        0              14\n",
            "9        0              10\n",
            "10       0              14\n"
          ]
        }
      ]
    },
    {
      "cell_type": "markdown",
      "source": [
        "Show last 10 elements"
      ],
      "metadata": {
        "id": "yBmva240GwlO"
      }
    },
    {
      "cell_type": "code",
      "source": [
        "%%R\n",
        "tail(data, 10)"
      ],
      "metadata": {
        "colab": {
          "base_uri": "https://localhost:8080/"
        },
        "id": "g_mXY7U8G0Xs",
        "outputId": "060a526f-5acc-42db-e6a4-380451af6ea5"
      },
      "execution_count": null,
      "outputs": [
        {
          "output_type": "stream",
          "name": "stdout",
          "text": [
            "                                        name year length_min    genre\n",
            "22                Blue is the Warmest Colour 2013        179  Romance\n",
            "23                                Black Swan 2010        108 Thriller\n",
            "24                        Back to the Future 1985        116   Sci-fi\n",
            "25                                  The Wave 2008        107 Thriller\n",
            "26                                  Whiplash 2014        106    Drama\n",
            "27                  The Grand Hotel Budapest 2014        100    Crime\n",
            "28                                   Jumanji 1995        104  Fantasy\n",
            "29 The Eternal Sunshine of the Spotless Mind 2004        108    Drama\n",
            "30                                   Chicago 2002        113   Comedy\n",
            "31                                   Jumangi 2020        120   Action\n",
            "   average_rating cost_millions foreign age_restriction\n",
            "22            7.8           4.5       1              18\n",
            "23            8.0          13.0       0              16\n",
            "24            8.5          19.0       0               0\n",
            "25            7.6           5.5       1              16\n",
            "26            8.5           3.3       1              12\n",
            "27            8.1          25.5       0              14\n",
            "28            6.9          65.0       0              12\n",
            "29            8.3          20.0       0              14\n",
            "30            7.2          45.0       0              12\n",
            "31            8.0          50.0       0              12\n"
          ]
        }
      ]
    },
    {
      "cell_type": "markdown",
      "source": [
        "Summary of data"
      ],
      "metadata": {
        "id": "wADUJ8-sKl8X"
      }
    },
    {
      "cell_type": "code",
      "source": [
        "%%R\n",
        "summary(data)"
      ],
      "metadata": {
        "colab": {
          "base_uri": "https://localhost:8080/"
        },
        "id": "eJaj2uIkKn-0",
        "outputId": "8e8b5c89-95b2-4575-bfbd-74fc11ce36a3"
      },
      "execution_count": null,
      "outputs": [
        {
          "output_type": "stream",
          "name": "stdout",
          "text": [
            "                         name         year        length_min          genre  \n",
            " Akira                     : 1   Min.   :1936   Min.   : 81.0   Drama    :7  \n",
            " American Beauty           : 1   1st Qu.:1988   1st Qu.: 99.5   Comedy   :5  \n",
            " Back to the Future        : 1   Median :1999   Median :113.0   Crime    :4  \n",
            " Black Swan                : 1   Mean   :1996   Mean   :116.9   Action   :2  \n",
            " Blue is the Warmest Colour: 1   3rd Qu.:2009   3rd Qu.:123.5   Animation:2  \n",
            " Casino                    : 1   Max.   :2020   Max.   :179.0   Biography:2  \n",
            " (Other)                   :25                                  (Other)  :9  \n",
            " average_rating cost_millions       foreign       age_restriction\n",
            " Min.   :5.20   Min.   :  0.40   Min.   :0.0000   Min.   : 0.0   \n",
            " 1st Qu.:7.95   1st Qu.:  3.75   1st Qu.:0.0000   1st Qu.:12.0   \n",
            " Median :8.30   Median : 13.00   Median :0.0000   Median :14.0   \n",
            " Mean   :8.10   Mean   : 23.19   Mean   :0.3871   Mean   :12.9   \n",
            " 3rd Qu.:8.50   3rd Qu.: 25.25   3rd Qu.:1.0000   3rd Qu.:16.0   \n",
            " Max.   :9.30   Max.   :165.00   Max.   :1.0000   Max.   :18.0   \n",
            "                                                                 \n"
          ]
        }
      ]
    },
    {
      "cell_type": "markdown",
      "source": [
        "Strip chart relating a numeric variable to a categorical variable:\n",
        "\n"
      ],
      "metadata": {
        "id": "A4xV0pUXKv0j"
      }
    },
    {
      "cell_type": "code",
      "source": [
        "%%R\n",
        "ggplot(data = data, aes(x = genre, y = year)) + geom_jitter()"
      ],
      "metadata": {
        "colab": {
          "base_uri": "https://localhost:8080/",
          "height": 497
        },
        "id": "9Q3FRbQOKz-W",
        "outputId": "7126f550-3a6d-4153-9d94-5caab733fab3"
      },
      "execution_count": 9,
      "outputs": [
        {
          "output_type": "display_data",
          "data": {
            "image/png": "[encoded data removed]"
          },
          "metadata": {}
        }
      ]
    },
    {
      "cell_type": "markdown",
      "source": [
        "Create a histogram by foreign and genre"
      ],
      "metadata": {
        "id": "HjY22wKjLHBG"
      }
    },
    {
      "cell_type": "code",
      "source": [
        "%%R\n",
        "ggplot(data, aes(x = foreign, fill = genre)) +  geom_histogram()"
      ],
      "metadata": {
        "colab": {
          "base_uri": "https://localhost:8080/",
          "height": 534
        },
        "id": "Jyj3Qc3ZLKiX",
        "outputId": "84960f48-c9a2-4d23-c28b-af2f962fcf5d"
      },
      "execution_count": 10,
      "outputs": [
        {
          "output_type": "stream",
          "name": "stderr",
          "text": [
            "WARNING:rpy2.rinterface_lib.callbacks:R[write to console]: `stat_bin()` using `bins = 30`. Pick better value with `binwidth`.\n",
            "\n"
          ]
        },
        {
          "output_type": "display_data",
          "data": {
            "image/png": "[encoded data removed]"
          },
          "metadata": {}
        }
      ]
    },
    {
      "cell_type": "code",
      "source": [
        "%%R\n",
        "resume <- data %>%\n",
        "  group_by(foreign) %>%\n",
        "  summarise(frequency = n())\n",
        "resume"
      ],
      "metadata": {
        "id": "QIKfGVm-PVWk",
        "outputId": "e4102604-1fee-4d42-804a-074a9936693f",
        "colab": {
          "base_uri": "https://localhost:8080/"
        }
      },
      "execution_count": 14,
      "outputs": [
        {
          "output_type": "stream",
          "name": "stdout",
          "text": [
            "# A tibble: 2 × 2\n",
            "  foreign frequency\n",
            "    <int>     <int>\n",
            "1       0        19\n",
            "2       1        12\n"
          ]
        }
      ]
    }
  ]
}